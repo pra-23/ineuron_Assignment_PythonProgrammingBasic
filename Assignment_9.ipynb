{
  "nbformat": 4,
  "nbformat_minor": 0,
  "metadata": {
    "colab": {
      "name": "Assignment_9.ipynb",
      "provenance": [],
      "authorship_tag": "ABX9TyOOL7bnZ0n0g3lWQzra8c/e"
    },
    "kernelspec": {
      "name": "python3",
      "display_name": "Python 3"
    },
    "language_info": {
      "name": "python"
    }
  },
  "cells": [
    {
      "cell_type": "markdown",
      "source": [
        "1.\tWrite a Python program to check if the given number is a Disarium Number?\n",
        "\n"
      ],
      "metadata": {
        "id": "NBzhSXa5MMYI"
      }
    },
    {
      "cell_type": "code",
      "execution_count": null,
      "metadata": {
        "id": "vwdH8DltDIPX",
        "colab": {
          "base_uri": "https://localhost:8080/"
        },
        "outputId": "a6282c13-13f2-40fe-c921-4aa981015006"
      },
      "outputs": [
        {
          "output_type": "stream",
          "name": "stdout",
          "text": [
            "Enter the Number to Check Disarium Number = 175\n",
            "The Sum of the Digits     = 175\n",
            "175 is a Disarium Number.\n"
          ]
        }
      ],
      "source": [
        "import math\n",
        "\n",
        "def digitsCount(Number):\n",
        "    length = 0\n",
        "    while Number != 0:\n",
        "        length = length + 1\n",
        "        Number = Number // 10\n",
        "    return length\n",
        "\n",
        "def digitsSum(Number, length):\n",
        "    Sum = 0\n",
        "    rem = 0\n",
        "\n",
        "    while Number > 0:\n",
        "        rem = Number % 10\n",
        "        Sum = Sum + math.pow(rem, length)\n",
        "        Number = Number // 10\n",
        "        length = length - 1\n",
        "    return Sum\n",
        "Number = int(input(\"Enter the Number to Check Disarium Number = \"))\n",
        "length = digitsCount(Number)\n",
        "Sum = digitsSum(Number, length)\n",
        "\n",
        "print(\"The Sum of the Digits     = %d\" %Sum)\n",
        "\n",
        "if Sum == Number:\n",
        "    print(\"%d is a Disarium Number.\" %Number)\n",
        "else:\n",
        "    print(\"%d is Not a Disarium Number.\" %Number)"
      ]
    },
    {
      "cell_type": "markdown",
      "source": [
        "2.\tWrite a Python program to print all disarium numbers between 1 to 100?\n"
      ],
      "metadata": {
        "id": "eMHaAJy2MWWz"
      }
    },
    {
      "cell_type": "code",
      "source": [
        "def calculateLength(n):    \n",
        "    length = 0    \n",
        "    while(n != 0):    \n",
        "        length = length + 1    \n",
        "        n = n//10    \n",
        "    return length\n",
        "\n",
        "def sumOfDigits(num):    \n",
        "    rem = sum = 0    \n",
        "    len = calculateLength(num)    \n",
        "        \n",
        "    while(num > 0):    \n",
        "        rem = num%10    \n",
        "        sum = sum + (rem**len)    \n",
        "        num = num//10    \n",
        "        len = len - 1    \n",
        "    return sum    \n",
        "      \n",
        "result = 0 \n",
        "print(\"Disarium numbers between 1 and 100 are\")    \n",
        "for i in range(1, 101):    \n",
        "    result = sumOfDigits(i)    \n",
        "        \n",
        "    if(result == i):    \n",
        "        print(i)         "
      ],
      "metadata": {
        "colab": {
          "base_uri": "https://localhost:8080/"
        },
        "id": "6Uz7wPHxLLQL",
        "outputId": "8be1415e-6008-460b-c6b4-e4ff2c41938f"
      },
      "execution_count": null,
      "outputs": [
        {
          "output_type": "stream",
          "name": "stdout",
          "text": [
            "Disarium numbers between 1 and 100 are\n",
            "1\n",
            "2\n",
            "3\n",
            "4\n",
            "5\n",
            "6\n",
            "7\n",
            "8\n",
            "9\n",
            "89\n"
          ]
        }
      ]
    },
    {
      "cell_type": "markdown",
      "source": [
        "3.\tWrite a Python program to check if the given number is Happy Number?\n"
      ],
      "metadata": {
        "id": "9ji0ECWQMYsw"
      }
    },
    {
      "cell_type": "code",
      "source": [
        "def isHappyNumber(num):    \n",
        "    rem = sum = 0;    \n",
        "            \n",
        "    while(num > 0):    \n",
        "        rem = num%10;    \n",
        "        sum = sum + (rem*rem);    \n",
        "        num = num//10;    \n",
        "    return sum;    \n",
        "        \n",
        "num = int(input(\"Enter a number: \"));    \n",
        "result = num;    \n",
        "     \n",
        "while(result != 1 and result != 4):    \n",
        "    result = isHappyNumber(result);    \n",
        "     \n",
        "  \n",
        "if(result == 1):    \n",
        "    print(str(num) + \" is a happy number\");    \n",
        "  \n",
        "elif(result == 4):    \n",
        "    print(str(num) + \" is not a happy number\");"
      ],
      "metadata": {
        "colab": {
          "base_uri": "https://localhost:8080/"
        },
        "id": "MLnYF9TFPtFe",
        "outputId": "2cccd63d-c855-4db9-ae77-ae8eacdfc31c"
      },
      "execution_count": 2,
      "outputs": [
        {
          "output_type": "stream",
          "name": "stdout",
          "text": [
            "Enter a number: 19\n",
            "19 is a happy number\n"
          ]
        }
      ]
    },
    {
      "cell_type": "markdown",
      "source": [
        "4.\tWrite a Python program to print all happy numbers between 1 and 100?\n"
      ],
      "metadata": {
        "id": "csXLHlsBMauH"
      }
    },
    {
      "cell_type": "code",
      "source": [
        "def isHappyNumber(num):    \n",
        "    rem = sum = 0    \n",
        "            \n",
        "    while(num > 0):    \n",
        "        rem = num%10    \n",
        "        sum = sum + (rem*rem)    \n",
        "        num = num//10    \n",
        "    return sum\n",
        "        \n",
        "\n",
        "print(\"List of happy numbers between 1 and 100: \")  \n",
        "for i in range(1, 101):  \n",
        "  result = i  \n",
        "  while(result != 1 and result != 4):    \n",
        "    result = isHappyNumber(result) \n",
        "\n",
        "  if(result == 1):    \n",
        "    print(i)    "
      ],
      "metadata": {
        "colab": {
          "base_uri": "https://localhost:8080/"
        },
        "id": "3oEt-CRnQzBT",
        "outputId": "45a2e95e-7128-49b3-befa-0dda0e1d8fc3"
      },
      "execution_count": 10,
      "outputs": [
        {
          "output_type": "stream",
          "name": "stdout",
          "text": [
            "List of happy numbers between 1 and 100: \n",
            "1\n",
            "7\n",
            "10\n",
            "13\n",
            "19\n",
            "23\n",
            "28\n",
            "31\n",
            "32\n",
            "44\n",
            "49\n",
            "68\n",
            "70\n",
            "79\n",
            "82\n",
            "86\n",
            "91\n",
            "94\n",
            "97\n",
            "100\n"
          ]
        }
      ]
    },
    {
      "cell_type": "markdown",
      "source": [
        "5.\tWrite a Python program to determine whether the given number is a Harshad Number?\n"
      ],
      "metadata": {
        "id": "-M1P6D6IMdE1"
      }
    },
    {
      "cell_type": "code",
      "source": [
        "num = int(input(\"Enter a number: \"))    \n",
        "rem = sum = 0 \n",
        "n = num\n",
        "while(num > 0):    \n",
        "    rem = num%10    \n",
        "    sum = sum + rem    \n",
        "    num = num//10\n",
        "\n",
        "if(n%sum == 0):    \n",
        "    print(str(n) + \" is a harshad number\")    \n",
        "else:    \n",
        "    print(str(n) + \" is not a harshad number\")"
      ],
      "metadata": {
        "colab": {
          "base_uri": "https://localhost:8080/"
        },
        "id": "VmwPU7O7R4XV",
        "outputId": "fa92acfc-05cb-4348-be56-8f7a6d3efcb9"
      },
      "execution_count": 11,
      "outputs": [
        {
          "output_type": "stream",
          "name": "stdout",
          "text": [
            "Enter a number: 156\n",
            "156 is a harshad number\n"
          ]
        }
      ]
    },
    {
      "cell_type": "markdown",
      "source": [
        "6.\tWrite a Python program to print all pronic numbers between 1 and 100?"
      ],
      "metadata": {
        "id": "k-Wsb1lBMfGW"
      }
    },
    {
      "cell_type": "code",
      "source": [
        "def isPronicNumber(num):    \n",
        "    flag = False    \n",
        "        \n",
        "    for j in range(1, num+1):        \n",
        "        if((j*(j+1)) == num):    \n",
        "            flag = True    \n",
        "            break\n",
        "    return flag   \n",
        "      \n",
        "print(\"Pronic numbers between 1 and 100: \")   \n",
        "for i in range(1, 101):    \n",
        "    if(isPronicNumber(i)):    \n",
        "        print(i)"
      ],
      "metadata": {
        "colab": {
          "base_uri": "https://localhost:8080/"
        },
        "id": "_wdctnAxUUVJ",
        "outputId": "8a2064a3-e455-4e5a-d49f-5a516016c952"
      },
      "execution_count": 12,
      "outputs": [
        {
          "output_type": "stream",
          "name": "stdout",
          "text": [
            "Pronic numbers between 1 and 100: \n",
            "2\n",
            "6\n",
            "12\n",
            "20\n",
            "30\n",
            "42\n",
            "56\n",
            "72\n",
            "90\n"
          ]
        }
      ]
    }
  ]
}