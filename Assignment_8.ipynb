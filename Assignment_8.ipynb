{
  "nbformat": 4,
  "nbformat_minor": 0,
  "metadata": {
    "colab": {
      "name": "Assignment_8.ipynb",
      "provenance": [],
      "authorship_tag": "ABX9TyO0tTHgG9OdhZGDRJUHHEYF"
    },
    "kernelspec": {
      "name": "python3",
      "display_name": "Python 3"
    },
    "language_info": {
      "name": "python"
    }
  },
  "cells": [
    {
      "cell_type": "markdown",
      "source": [
        "1.\tWrite a Python Program to Add Two Matrices?\n"
      ],
      "metadata": {
        "id": "gQzft4VY5EuP"
      }
    },
    {
      "cell_type": "code",
      "execution_count": 4,
      "metadata": {
        "colab": {
          "base_uri": "https://localhost:8080/"
        },
        "id": "czG1HObw41dx",
        "outputId": "bff7b4b1-f6af-4ad0-b9d0-a2e8216a14a1"
      },
      "outputs": [
        {
          "output_type": "stream",
          "name": "stdout",
          "text": [
            "[10, 10, 10]\n",
            "[10, 10, 10]\n",
            "[10, 10, 10]\n"
          ]
        }
      ],
      "source": [
        "x = [[1,2,3],\n",
        "     [4,5,6],\n",
        "     [7,8,9]]\n",
        "\n",
        "y = [[9,8,7],\n",
        "     [6,5,4],\n",
        "     [3,2,1]]\n",
        "\n",
        "result = [[0,0,0],\n",
        "          [0,0,0],\n",
        "          [0,0,0]]\n",
        "\n",
        "for i in range(len(x)):\n",
        "  for j in range(len(x[0])):\n",
        "    result[i][j] = x[i][j] + y[i][j]\n",
        "\n",
        "for r in result:\n",
        "  print(r)"
      ]
    },
    {
      "cell_type": "markdown",
      "source": [
        "2.\tWrite a Python Program to Multiply Two Matrices?\n"
      ],
      "metadata": {
        "id": "0F80QeAI5IUc"
      }
    },
    {
      "cell_type": "code",
      "source": [
        "x = [[1,2,3],\n",
        "     [4,5,6],\n",
        "     [7,8,9]]\n",
        "\n",
        "y = [[9,8,7],\n",
        "     [6,5,4],\n",
        "     [3,2,1]]\n",
        "\n",
        "result = [[0,0,0],\n",
        "          [0,0,0],\n",
        "          [0,0,0]]\n",
        "\n",
        "for i in range(len(x)):\n",
        "  for j in range(len(y[0])):\n",
        "    for k in range(len(y)):\n",
        "      result[i][j] += x[i][j] * y[i][j]\n",
        "\n",
        "for r in result:\n",
        "  print(r)"
      ],
      "metadata": {
        "colab": {
          "base_uri": "https://localhost:8080/"
        },
        "id": "vYdTkqEf9LwU",
        "outputId": "d145be05-233f-4acc-a13f-dd76a1ae2ef9"
      },
      "execution_count": 5,
      "outputs": [
        {
          "output_type": "stream",
          "name": "stdout",
          "text": [
            "[27, 48, 63]\n",
            "[72, 75, 72]\n",
            "[63, 48, 27]\n"
          ]
        }
      ]
    },
    {
      "cell_type": "markdown",
      "source": [
        "3.\tWrite a Python Program to Transpose a Matrix?\n"
      ],
      "metadata": {
        "id": "ian8leZ75LWx"
      }
    },
    {
      "cell_type": "code",
      "source": [
        "X = [[12,7],\n",
        "    [4 ,5],\n",
        "    [3 ,8]]\n",
        "\n",
        "result = [[0,0,0],\n",
        "         [0,0,0]]\n",
        "\n",
        "for i in range(len(X)):\n",
        "   for j in range(len(X[0])):\n",
        "       result[j][i] = X[i][j]\n",
        "\n",
        "for r in result:\n",
        "   print(r)"
      ],
      "metadata": {
        "colab": {
          "base_uri": "https://localhost:8080/"
        },
        "id": "Gb-nD3B2-X1Z",
        "outputId": "25dbbc02-4eb7-4032-865a-0d0ffdb88bb9"
      },
      "execution_count": 6,
      "outputs": [
        {
          "output_type": "stream",
          "name": "stdout",
          "text": [
            "[12, 4, 3]\n",
            "[7, 5, 8]\n"
          ]
        }
      ]
    },
    {
      "cell_type": "markdown",
      "source": [
        "4.\tWrite a Python Program to Sort Words in Alphabetic Order?\n",
        "\n"
      ],
      "metadata": {
        "id": "vNrBw2AK5OJF"
      }
    },
    {
      "cell_type": "code",
      "source": [
        "mystr = input(\"Enter a string: \")\n",
        "words = mystr.split()\n",
        "words.sort()\n",
        "for word in words:\n",
        "  print(word)"
      ],
      "metadata": {
        "colab": {
          "base_uri": "https://localhost:8080/"
        },
        "id": "LBW7FaPV_yWY",
        "outputId": "7b51eef8-7a79-4a06-803f-6020f4fff2c4"
      },
      "execution_count": 7,
      "outputs": [
        {
          "output_type": "stream",
          "name": "stdout",
          "text": [
            "Enter a string: mera joota hai japani\n",
            "hai\n",
            "japani\n",
            "joota\n",
            "mera\n"
          ]
        }
      ]
    },
    {
      "cell_type": "markdown",
      "source": [
        "5.\tWrite a Python Program to Remove Punctuation From a String?"
      ],
      "metadata": {
        "id": "Jt4TNPGl5QuG"
      }
    },
    {
      "cell_type": "code",
      "source": [
        "punctuation = '''''!()-[]{};:'\"\\,<>./?@#$%^&*_~'''   \n",
        "my_str = input(\"Enter a string: \")  \n",
        "\n",
        "no_punct = \"\"  \n",
        "for char in my_str:  \n",
        "   if char not in punctuation:  \n",
        "       no_punct = no_punct + char  \n",
        " \n",
        "print(no_punct)  "
      ],
      "metadata": {
        "colab": {
          "base_uri": "https://localhost:8080/"
        },
        "id": "nhrzqnETAWqe",
        "outputId": "23af84f4-6fa1-426a-d51e-9d96044573c1"
      },
      "execution_count": 9,
      "outputs": [
        {
          "output_type": "stream",
          "name": "stdout",
          "text": [
            "Enter a string: One of the easiest and fastest methods through which punctuation marks and special characters can be removed from a string is by using the translate () method.  The built-in translate () function is available in the string library of Python.\n",
            "One of the easiest and fastest methods through which punctuation marks and special characters can be removed from a string is by using the translate  method  The builtin translate  function is available in the string library of Python\n"
          ]
        }
      ]
    }
  ]
}