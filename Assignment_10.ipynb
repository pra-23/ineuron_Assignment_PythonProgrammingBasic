{
  "nbformat": 4,
  "nbformat_minor": 0,
  "metadata": {
    "colab": {
      "name": "Assignment_10.ipynb",
      "provenance": [],
      "authorship_tag": "ABX9TyN/AJgRuDz1m14+Hz6bZNXB"
    },
    "kernelspec": {
      "name": "python3",
      "display_name": "Python 3"
    },
    "language_info": {
      "name": "python"
    }
  },
  "cells": [
    {
      "cell_type": "markdown",
      "source": [
        "1.\tWrite a Python program to find sum of elements in list?\n",
        "\n"
      ],
      "metadata": {
        "id": "X-kVwNCWyPQr"
      }
    },
    {
      "cell_type": "code",
      "execution_count": null,
      "metadata": {
        "colab": {
          "base_uri": "https://localhost:8080/"
        },
        "id": "JBmYRwVXyNOq",
        "outputId": "49ee1c8a-cf28-4f3d-c585-c254c9044617"
      },
      "outputs": [
        {
          "output_type": "stream",
          "name": "stdout",
          "text": [
            "45\n"
          ]
        }
      ],
      "source": [
        "a = [1,2,3,4,5,6,7,8,9]\n",
        "sum = 0\n",
        "for i in range(len(a)):\n",
        "  sum += a[i]\n",
        "print(sum)"
      ]
    },
    {
      "cell_type": "markdown",
      "source": [
        "2.\tWrite a Python program to  Multiply all numbers in the list?\n"
      ],
      "metadata": {
        "id": "KtS7iTipyXnM"
      }
    },
    {
      "cell_type": "code",
      "source": [
        "a = [1,2,3,4,5,6,7,8,9]\n",
        "mul = 1\n",
        "for i in range(len(a)):\n",
        "  mul = mul * a[i]\n",
        "print(mul)"
      ],
      "metadata": {
        "colab": {
          "base_uri": "https://localhost:8080/"
        },
        "id": "rmZOXQ1jzFxb",
        "outputId": "c2aae109-4bd9-42b8-b118-3c5688c619df"
      },
      "execution_count": null,
      "outputs": [
        {
          "output_type": "stream",
          "name": "stdout",
          "text": [
            "362880\n"
          ]
        }
      ]
    },
    {
      "cell_type": "markdown",
      "source": [
        "3.\tWrite a Python program to find smallest number in a list?\n"
      ],
      "metadata": {
        "id": "mVEra7ooydWR"
      }
    },
    {
      "cell_type": "code",
      "source": [
        "a = [9,1,2,7,6,5,4,8,3]\n",
        "min = a[0]\n",
        "for i in range(len(a)):\n",
        "  if a[i] < min:\n",
        "    min = a[i]\n",
        "print(\"Smallest number: \",min)\n"
      ],
      "metadata": {
        "colab": {
          "base_uri": "https://localhost:8080/"
        },
        "id": "kDra5jqLzoPx",
        "outputId": "87019d74-1bd2-4a51-ea64-0b1aa051e74b"
      },
      "execution_count": null,
      "outputs": [
        {
          "output_type": "stream",
          "name": "stdout",
          "text": [
            "Smallest number:  1\n"
          ]
        }
      ]
    },
    {
      "cell_type": "markdown",
      "source": [
        "4.\tWrite a Python program to find largest number in a list?\n"
      ],
      "metadata": {
        "id": "kt7ps2YryhkH"
      }
    },
    {
      "cell_type": "code",
      "source": [
        "a = [1,2,7,6,9,5,4,8,3]\n",
        "large = a[0]\n",
        "for i in range(len(a)):\n",
        "  if a[i] > large:\n",
        "    large = a[i]\n",
        "print(\"largest number: \",large)"
      ],
      "metadata": {
        "colab": {
          "base_uri": "https://localhost:8080/"
        },
        "id": "aBINLUnl030B",
        "outputId": "f11785fd-a24c-443d-de0e-ed940bbb5b24"
      },
      "execution_count": null,
      "outputs": [
        {
          "output_type": "stream",
          "name": "stdout",
          "text": [
            "largest number:  9\n"
          ]
        }
      ]
    },
    {
      "cell_type": "markdown",
      "source": [
        "5.\tWrite a Python program to find second largest number in a list?\n"
      ],
      "metadata": {
        "id": "xnfUF6JVykAy"
      }
    },
    {
      "cell_type": "code",
      "source": [
        "a = [1,2,7,6,9,5,4,8,3]\n",
        "a.sort()\n",
        "print(\"Second largest: \",a[-2])"
      ],
      "metadata": {
        "colab": {
          "base_uri": "https://localhost:8080/"
        },
        "id": "kuIRPyuX15ry",
        "outputId": "cceee6dd-31d7-47e2-96e5-34736f0ae14c"
      },
      "execution_count": null,
      "outputs": [
        {
          "output_type": "stream",
          "name": "stdout",
          "text": [
            "Second largest:  8\n"
          ]
        }
      ]
    },
    {
      "cell_type": "markdown",
      "source": [
        "6.\tWrite a Python program to find N largest elements from a list?"
      ],
      "metadata": {
        "id": "265PH90zymek"
      }
    },
    {
      "cell_type": "code",
      "source": [
        "def N_max_elements(list, N):\n",
        "    result_list = []\n",
        "  \n",
        "    for i in range(0, N): \n",
        "        maximum = 0\n",
        "          \n",
        "        for j in range(len(list)):     \n",
        "            if list[j] > maximum:\n",
        "                maximum = list[j]\n",
        "                  \n",
        "        list.remove(maximum)\n",
        "        result_list.append(maximum)\n",
        "          \n",
        "    return result_list\n",
        "\n",
        "list1 = [2, 6, 41, 85, 0, 3, 7, 6, 10]\n",
        "N = 2\n",
        "\n",
        "print(N, \"max elements in \",list1)\n",
        "print(N_max_elements(list1, N))"
      ],
      "metadata": {
        "colab": {
          "base_uri": "https://localhost:8080/"
        },
        "id": "1vrzZ530EL7F",
        "outputId": "94b5b6c7-5b78-4af4-dba8-13cd5c6caf10"
      },
      "execution_count": 1,
      "outputs": [
        {
          "output_type": "stream",
          "name": "stdout",
          "text": [
            "2 max elements in  [2, 6, 41, 85, 0, 3, 7, 6, 10]\n",
            "[85, 41]\n"
          ]
        }
      ]
    },
    {
      "cell_type": "markdown",
      "source": [
        "7.\tWrite a Python program to print even numbers in a list?\n"
      ],
      "metadata": {
        "id": "WkzI3O7yypM1"
      }
    },
    {
      "cell_type": "code",
      "source": [
        "a = [1,2,7,6,9,5,4,8,3]\n",
        "print(\"Even Numbers: \")\n",
        "for i in range(len(a)):\n",
        "  if a[i] % 2 == 0:\n",
        "    print(a[i])"
      ],
      "metadata": {
        "colab": {
          "base_uri": "https://localhost:8080/"
        },
        "id": "Ba-CKAl3YScC",
        "outputId": "5e01a3fa-39dc-4494-8565-ca1a3f373edb"
      },
      "execution_count": 3,
      "outputs": [
        {
          "output_type": "stream",
          "name": "stdout",
          "text": [
            "Even Numbers: \n",
            "2\n",
            "6\n",
            "4\n",
            "8\n"
          ]
        }
      ]
    },
    {
      "cell_type": "markdown",
      "source": [
        "8.\tWrite a Python program to print odd numbers in a List?\n"
      ],
      "metadata": {
        "id": "9eum91J3y2YI"
      }
    },
    {
      "cell_type": "code",
      "source": [
        "a = [1,2,7,6,9,5,4,8,3]\n",
        "print(\"odd Numbers: \")\n",
        "for i in range(len(a)):\n",
        "  if a[i] % 2 != 0:\n",
        "    print(a[i])"
      ],
      "metadata": {
        "colab": {
          "base_uri": "https://localhost:8080/"
        },
        "id": "jixoY4WzY3qb",
        "outputId": "a93e72aa-6d2d-497e-f3ae-94384eb331f4"
      },
      "execution_count": 4,
      "outputs": [
        {
          "output_type": "stream",
          "name": "stdout",
          "text": [
            "odd Numbers: \n",
            "1\n",
            "7\n",
            "9\n",
            "5\n",
            "3\n"
          ]
        }
      ]
    },
    {
      "cell_type": "markdown",
      "source": [
        "9.\tWrite a Python program to Remove empty List from List?"
      ],
      "metadata": {
        "id": "f1eOVp_Sy44w"
      }
    },
    {
      "cell_type": "code",
      "source": [
        "lst = [[1, 2, 3], [1, 2], [], [], [], [1, 2, 3, 4], [], []]\n",
        "print([ele for ele in lst if ele])"
      ],
      "metadata": {
        "colab": {
          "base_uri": "https://localhost:8080/"
        },
        "id": "zk_Kc-Z8ZGhG",
        "outputId": "66ad6283-1cca-4965-883d-0818a31df143"
      },
      "execution_count": 5,
      "outputs": [
        {
          "output_type": "stream",
          "name": "stdout",
          "text": [
            "[[1, 2, 3], [1, 2], [1, 2, 3, 4]]\n"
          ]
        }
      ]
    },
    {
      "cell_type": "markdown",
      "source": [
        "10.\tWrite a Python program to Cloning or Copying a list?"
      ],
      "metadata": {
        "id": "91hnzHtYzAxp"
      }
    },
    {
      "cell_type": "code",
      "source": [
        "original_list = [10, 22, 44, 23, 4]\n",
        "new_list = list(original_list)\n",
        "print(original_list)\n",
        "print(new_list)"
      ],
      "metadata": {
        "colab": {
          "base_uri": "https://localhost:8080/"
        },
        "id": "e4oiX2Q6aIQv",
        "outputId": "604a0d6d-5268-4616-f7e3-0c209f1b6d30"
      },
      "execution_count": 6,
      "outputs": [
        {
          "output_type": "stream",
          "name": "stdout",
          "text": [
            "[10, 22, 44, 23, 4]\n",
            "[10, 22, 44, 23, 4]\n"
          ]
        }
      ]
    },
    {
      "cell_type": "markdown",
      "source": [
        "11.\tWrite a Python program to Count occurrences of an element in a list?"
      ],
      "metadata": {
        "id": "GyC8nWgezDdP"
      }
    },
    {
      "cell_type": "code",
      "source": [
        "def count_occurr(list,n):\n",
        "  count = 0\n",
        "  for i in list:\n",
        "    if (i==n):\n",
        "      count += 1\n",
        "  return count\n",
        "\n",
        "li = []\n",
        "n = int(input(\"Enter size of list: \"))\n",
        "for i in range(0,n):\n",
        "  e = int(input(\"Enter list element: \"))\n",
        "  li.append(e)\n",
        "print(\"Original list: \", li)\n",
        "x = int(input(\"Enter element to be checked: \"))\n",
        "print(x,\"has occurred \",count_occurr(li,x),\"times\")\n",
        "\n",
        "\n"
      ],
      "metadata": {
        "colab": {
          "base_uri": "https://localhost:8080/"
        },
        "id": "y8jzgU1kaNh0",
        "outputId": "737e49f4-7c23-4801-f4f5-bf7acffb912a"
      },
      "execution_count": 1,
      "outputs": [
        {
          "output_type": "stream",
          "name": "stdout",
          "text": [
            "Enter size of list: 10\n",
            "Enter list element: 1\n",
            "Enter list element: 5\n",
            "Enter list element: 1\n",
            "Enter list element: 5\n",
            "Enter list element: 4\n",
            "Enter list element: 8\n",
            "Enter list element: 9\n",
            "Enter list element: 6\n",
            "Enter list element: 4\n",
            "Enter list element: 5\n",
            "Original list:  [1, 5, 1, 5, 4, 8, 9, 6, 4, 5]\n",
            "Enter element to be checked: 1\n",
            "1 has occurred  2 times\n"
          ]
        }
      ]
    },
    {
      "cell_type": "code",
      "source": [
        "li = [\"a\", \"ab\", \"a\", \"abc\", \"ab\", \"ab\"]\n",
        "\n",
        "def countOccurrence(a):\n",
        "  k = {}\n",
        "  for j in a:\n",
        "    if j in k:\n",
        "      k[j] +=1\n",
        "    else:\n",
        "      k[j] =1\n",
        "  return k\n",
        "\n",
        "print(countOccurrence(li))"
      ],
      "metadata": {
        "colab": {
          "base_uri": "https://localhost:8080/"
        },
        "id": "NGVO51qpWGUH",
        "outputId": "47e3915a-6a2e-4eb7-ebcd-d3337a996d04"
      },
      "execution_count": 2,
      "outputs": [
        {
          "output_type": "stream",
          "name": "stdout",
          "text": [
            "{'a': 2, 'ab': 3, 'abc': 1}\n"
          ]
        }
      ]
    }
  ]
}