{
  "nbformat": 4,
  "nbformat_minor": 0,
  "metadata": {
    "colab": {
      "name": "Assignment_1.ipynb",
      "provenance": [],
      "authorship_tag": "ABX9TyMG8sD5rNgdw9eaOpNR8YCi"
    },
    "kernelspec": {
      "name": "python3",
      "display_name": "Python 3"
    },
    "language_info": {
      "name": "python"
    }
  },
  "cells": [
    {
      "cell_type": "markdown",
      "source": [
        "1.\tWrite a Python program to print \"Hello Python\"?"
      ],
      "metadata": {
        "id": "xB9NcUNpA4Ej"
      }
    },
    {
      "cell_type": "code",
      "execution_count": null,
      "metadata": {
        "id": "F3o9uwLWyzJb"
      },
      "outputs": [],
      "source": [
        "print(\"Hello Python\")"
      ]
    },
    {
      "cell_type": "markdown",
      "source": [
        "2.\tWrite a Python program to do arithmetical operations addition and division.?\n"
      ],
      "metadata": {
        "id": "HDUA1vjbA5oU"
      }
    },
    {
      "cell_type": "code",
      "source": [
        "a = 10\n",
        "b = 5\n",
        "c = a + b\n",
        "d = a//b\n",
        "print(\"Value Of C & D =\",c , d)"
      ],
      "metadata": {
        "colab": {
          "base_uri": "https://localhost:8080/"
        },
        "id": "jYvxkiS8BT6I",
        "outputId": "d57fc3db-1d44-41b6-8af2-3b18c9728f2c"
      },
      "execution_count": 2,
      "outputs": [
        {
          "output_type": "stream",
          "name": "stdout",
          "text": [
            "Value Of C & D = 15 2\n"
          ]
        }
      ]
    },
    {
      "cell_type": "markdown",
      "source": [
        "3.\tWrite a Python program to find the area of a triangle?\n",
        "\n"
      ],
      "metadata": {
        "id": "lbBeDtwOA6Od"
      }
    },
    {
      "cell_type": "code",
      "source": [
        "Base = 10\n",
        "Height = 20\n",
        "Area = 0.5 * Base * Height\n",
        "print(\"Area of Triangle =\", Area)"
      ],
      "metadata": {
        "colab": {
          "base_uri": "https://localhost:8080/"
        },
        "id": "ECfMJRBWBUY3",
        "outputId": "1f489192-1559-45e7-a990-22577e272735"
      },
      "execution_count": 3,
      "outputs": [
        {
          "output_type": "stream",
          "name": "stdout",
          "text": [
            "Area of Triangle = 100.0\n"
          ]
        }
      ]
    },
    {
      "cell_type": "markdown",
      "source": [
        "4.\tWrite a Python program to swap two variables?\n"
      ],
      "metadata": {
        "id": "kpGbgVB1A6y3"
      }
    },
    {
      "cell_type": "code",
      "source": [
        "a = 5 \n",
        "b = 10\n",
        "print(\"Numbers before swapping\", a, b)\n",
        "temp = a\n",
        "a = b\n",
        "b = temp\n",
        "print(\"Numbers after swap\", a, b)\n"
      ],
      "metadata": {
        "colab": {
          "base_uri": "https://localhost:8080/"
        },
        "id": "iKxUOB7bBU_M",
        "outputId": "a84c02cd-2291-490e-8059-0ee42bd4e841"
      },
      "execution_count": 4,
      "outputs": [
        {
          "output_type": "stream",
          "name": "stdout",
          "text": [
            "Numbers before swapping 5 10\n",
            "Numbers after swap 10 5\n"
          ]
        }
      ]
    },
    {
      "cell_type": "code",
      "source": [
        "a = 5\n",
        "b = 6\n",
        "print(\"Numbers before swapping\", a, b)\n",
        "a,b = b,a \n",
        "print(\"Numbers after swap\", a, b)"
      ],
      "metadata": {
        "colab": {
          "base_uri": "https://localhost:8080/"
        },
        "id": "rpJG6mC6FY4A",
        "outputId": "1acd0e2b-6e58-464e-8602-2cefedf0b97b"
      },
      "execution_count": 5,
      "outputs": [
        {
          "output_type": "stream",
          "name": "stdout",
          "text": [
            "Numbers before swapping 5 6\n",
            "Numbers after swap 6 5\n"
          ]
        }
      ]
    },
    {
      "cell_type": "markdown",
      "source": [
        "5.\tWrite a Python program to generate a random number?"
      ],
      "metadata": {
        "id": "iVh4b71nA7W0"
      }
    },
    {
      "cell_type": "code",
      "source": [
        "import random\n",
        "x = random.randint(10,50)\n",
        "print(x)"
      ],
      "metadata": {
        "colab": {
          "base_uri": "https://localhost:8080/"
        },
        "id": "FYqy-mOEBViq",
        "outputId": "e626f326-c733-43d5-977e-73880282a7e0"
      },
      "execution_count": 6,
      "outputs": [
        {
          "output_type": "stream",
          "name": "stdout",
          "text": [
            "15\n"
          ]
        }
      ]
    }
  ]
}