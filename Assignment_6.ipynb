{
  "nbformat": 4,
  "nbformat_minor": 0,
  "metadata": {
    "colab": {
      "name": "Assignment_6.ipynb",
      "provenance": [],
      "authorship_tag": "ABX9TyN6j/LQp6W2Q4qs6O3hCNTI"
    },
    "kernelspec": {
      "name": "python3",
      "display_name": "Python 3"
    },
    "language_info": {
      "name": "python"
    }
  },
  "cells": [
    {
      "cell_type": "markdown",
      "source": [
        "1.\tWrite a Python Program to Display Fibonacci Sequence Using Recursion?\n"
      ],
      "metadata": {
        "id": "9u17xVmkCWGv"
      }
    },
    {
      "cell_type": "code",
      "execution_count": 1,
      "metadata": {
        "colab": {
          "base_uri": "https://localhost:8080/"
        },
        "id": "EnymmURTCGGP",
        "outputId": "92024966-fdf3-470b-c557-b3d583eb8c56"
      },
      "outputs": [
        {
          "output_type": "stream",
          "name": "stdout",
          "text": [
            "Enter number of terms:6\n",
            "Fibonacci sequence:\n",
            "0\n",
            "1\n",
            "1\n",
            "2\n",
            "3\n",
            "5\n"
          ]
        }
      ],
      "source": [
        "def fibonacci(n):\n",
        "    if(n <= 1):\n",
        "        return n\n",
        "    else:\n",
        "        return(fibonacci(n-1) + fibonacci(n-2))\n",
        "n = int(input(\"Enter number of terms:\"))\n",
        "print(\"Fibonacci sequence:\")\n",
        "for i in range(n):\n",
        "    print(fibonacci(i))"
      ]
    },
    {
      "cell_type": "markdown",
      "source": [
        "2.\tWrite a Python Program to Find Factorial of Number Using Recursion?\n"
      ],
      "metadata": {
        "id": "17RRXPbcCXoE"
      }
    },
    {
      "cell_type": "code",
      "source": [
        "def factorial(n):\n",
        "  if n == 1:\n",
        "    return n\n",
        "  else:\n",
        "    return n*factorial(n-1)\n",
        "\n",
        "num = int(input(\"Enter a number \"))\n",
        "\n",
        "if num<0:\n",
        "  print(\"Enter a positive number \")\n",
        "elif num==0:\n",
        "  print(\"Factorial of 0 is 1\")\n",
        "else:\n",
        "  print(\"Factorial of \",num,\" is\",factorial(num))"
      ],
      "metadata": {
        "colab": {
          "base_uri": "https://localhost:8080/"
        },
        "id": "tvN48IxzEOVV",
        "outputId": "975fb56a-44c9-4a05-ceab-063e65ec15cf"
      },
      "execution_count": 3,
      "outputs": [
        {
          "output_type": "stream",
          "name": "stdout",
          "text": [
            "Enter a number 8\n",
            "Factorial of  8  is 40320\n"
          ]
        }
      ]
    },
    {
      "cell_type": "markdown",
      "source": [
        "3.\tWrite a Python Program to calculate your Body Mass Index?\n"
      ],
      "metadata": {
        "id": "g09tFIQbCYIX"
      }
    },
    {
      "cell_type": "code",
      "source": [
        "height = float(input(\"Enter Height in cm: \"))\n",
        "weight = float(input(\"Enter Weight in kg: \"))\n",
        "bmi = weight/(height/100)**2\n",
        "if bmi <= 18.5:\n",
        "  print(\"Oops! you are underweight.\")\n",
        "elif bmi <= 24.9:\n",
        "  print(\"Awesome! you are healthy.\")\n",
        "elif bmi <= 29.9:\n",
        "  print(\"You are overweight.\")\n",
        "else:\n",
        "  print(\"You are obese.\")\n"
      ],
      "metadata": {
        "colab": {
          "base_uri": "https://localhost:8080/"
        },
        "id": "ZteY7ni_J6DQ",
        "outputId": "7edec261-0d48-43ae-dcc5-63a28a2d9c9d"
      },
      "execution_count": 9,
      "outputs": [
        {
          "output_type": "stream",
          "name": "stdout",
          "text": [
            "Enter Height in cm: 163\n",
            "Enter Weight in kg: 80\n",
            "You are obese.\n"
          ]
        }
      ]
    },
    {
      "cell_type": "markdown",
      "source": [
        "4.\tWrite a Python Program to calculate the natural logarithm of any number?\n"
      ],
      "metadata": {
        "id": "twKWV4SwCYnW"
      }
    },
    {
      "cell_type": "code",
      "source": [
        "import math\n",
        "num = int(input(\"Enter a number: \"))\n",
        "log = math.log(num)\n",
        "print(\"natural logarithm of {0}\".format(num), \" is: \",log)"
      ],
      "metadata": {
        "colab": {
          "base_uri": "https://localhost:8080/"
        },
        "id": "3TCroCLHUKEV",
        "outputId": "34d3c91b-dcc1-4e8b-aa8e-8366f6a88ee7"
      },
      "execution_count": 13,
      "outputs": [
        {
          "output_type": "stream",
          "name": "stdout",
          "text": [
            "Enter a number: 10\n",
            "natural logarithm of 10  is:  2.302585092994046\n"
          ]
        }
      ]
    },
    {
      "cell_type": "markdown",
      "source": [
        "5.\tWrite a Python Program for cube sum of first n natural numbers?\n"
      ],
      "metadata": {
        "id": "Z2Q1e7kZCZ-o"
      }
    },
    {
      "cell_type": "code",
      "source": [
        "def sumOfSeries(n):\n",
        "  sum = 0\n",
        "  for i in range(1,n+1):\n",
        "    sum += i*i*i\n",
        "  \n",
        "  return sum\n",
        "\n",
        "n = int(input(\"Enter a number \"))\n",
        "print(sumOfSeries(n))"
      ],
      "metadata": {
        "colab": {
          "base_uri": "https://localhost:8080/"
        },
        "id": "eOfnY4j5XG74",
        "outputId": "240c28f5-9efb-43ed-e2c3-1e8376665fec"
      },
      "execution_count": 15,
      "outputs": [
        {
          "output_type": "stream",
          "name": "stdout",
          "text": [
            "Enter a number 10\n",
            "3025\n"
          ]
        }
      ]
    }
  ]
}