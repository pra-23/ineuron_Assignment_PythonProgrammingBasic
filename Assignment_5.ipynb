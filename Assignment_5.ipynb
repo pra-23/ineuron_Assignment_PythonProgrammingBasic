{
  "nbformat": 4,
  "nbformat_minor": 0,
  "metadata": {
    "colab": {
      "name": "Assignment_5.ipynb",
      "provenance": [],
      "authorship_tag": "ABX9TyOWJ1mgAi/X+kuiRY+mgazl"
    },
    "kernelspec": {
      "name": "python3",
      "display_name": "Python 3"
    },
    "language_info": {
      "name": "python"
    }
  },
  "cells": [
    {
      "cell_type": "markdown",
      "source": [
        "1.\tWrite a Python Program to Find LCM?\n",
        "\n"
      ],
      "metadata": {
        "id": "STLsNZXylwsl"
      }
    },
    {
      "cell_type": "code",
      "execution_count": 2,
      "metadata": {
        "colab": {
          "base_uri": "https://localhost:8080/"
        },
        "id": "IRVHLco8lnT2",
        "outputId": "eec1276d-c112-40b0-acc8-9a74e897de79"
      },
      "outputs": [
        {
          "output_type": "stream",
          "name": "stdout",
          "text": [
            "Enter 1st number 54\n",
            "Enter 2nd number 24\n",
            "The LCM is  216\n"
          ]
        }
      ],
      "source": [
        "def calc_lcm(x,y):\n",
        "  if x>y:\n",
        "    greater = x\n",
        "  else:\n",
        "    greater = y\n",
        "  \n",
        "  while(True):\n",
        "    if((greater % x ==0) and (greater % y == 0)):\n",
        "      lcm = greater\n",
        "      break\n",
        "    greater +=1\n",
        "  return lcm\n",
        "\n",
        "n1 = int(input(\"Enter 1st number \"))\n",
        "n2 = int(input(\"Enter 2nd number \"))\n",
        "print(\"The LCM is \",calc_lcm(n1,n2))\n"
      ]
    },
    {
      "cell_type": "markdown",
      "source": [
        "2.\tWrite a Python Program to Find HCF?\n"
      ],
      "metadata": {
        "id": "9JKjFNCqlxMT"
      }
    },
    {
      "cell_type": "code",
      "source": [
        "def calc_hcf(x,y):\n",
        "  if x>y:\n",
        "    smaller = y\n",
        "  else:\n",
        "    smaller = x\n",
        "  for i in range(1, smaller+1):\n",
        "    if((x%i == 0) and (y%i == 0)):\n",
        "      hcf = i\n",
        "  return hcf1\n",
        "  \n",
        "n1 = int(input(\"Enter 1st number \"))\n",
        "n2 = int(input(\"Enter 2nd number \"))\n",
        "print(\"The hcf is \",calc_hcf(n1,n2))"
      ],
      "metadata": {
        "colab": {
          "base_uri": "https://localhost:8080/"
        },
        "id": "4FZWpgeJsVqZ",
        "outputId": "c530b23b-8383-43e7-88f0-d9b864fde40c"
      },
      "execution_count": 5,
      "outputs": [
        {
          "output_type": "stream",
          "name": "stdout",
          "text": [
            "Enter 1st number 8\n",
            "Enter 2nd number 12\n",
            "The hcf is  4\n"
          ]
        }
      ]
    },
    {
      "cell_type": "markdown",
      "source": [
        "3.\tWrite a Python Program to Convert Decimal to Binary, Octal and Hexadecimal?\n"
      ],
      "metadata": {
        "id": "0M9a-_9VlxwZ"
      }
    },
    {
      "cell_type": "code",
      "source": [
        "dec = int(input(\"Enter a number: \"))\n",
        " \n",
        "print(\"The decimal value of\", dec, \"is:\")\n",
        "print(bin(dec), \"in binary.\")\n",
        "print(oct(dec), \"in octal.\")\n",
        "print(hex(dec), \"in hexadecimal.\")"
      ],
      "metadata": {
        "colab": {
          "base_uri": "https://localhost:8080/"
        },
        "id": "FzhI2YWnt49L",
        "outputId": "ed4a9ddb-5d05-467e-efed-c5bd87502da4"
      },
      "execution_count": 9,
      "outputs": [
        {
          "output_type": "stream",
          "name": "stdout",
          "text": [
            "Enter a number: 20\n",
            "The decimal value of 20 is:\n",
            "0b10100 in binary.\n",
            "0o24 in octal.\n",
            "0x14 in hexadecimal.\n"
          ]
        }
      ]
    },
    {
      "cell_type": "markdown",
      "source": [
        "4.\tWrite a Python Program To Find ASCII value of a character?\n"
      ],
      "metadata": {
        "id": "NFQzaHi2lyQ5"
      }
    },
    {
      "cell_type": "code",
      "source": [
        "char = input(\"Enter a character \")\n",
        "print(\"Ascii value of '\"+ char + \"' is \", ord(char))"
      ],
      "metadata": {
        "colab": {
          "base_uri": "https://localhost:8080/"
        },
        "id": "UT5_N8qY8TFY",
        "outputId": "fcd05007-a256-400c-c488-9f903af4e807"
      },
      "execution_count": 3,
      "outputs": [
        {
          "output_type": "stream",
          "name": "stdout",
          "text": [
            "Enter a character g\n",
            "Ascii value of 'g' is  103\n"
          ]
        }
      ]
    },
    {
      "cell_type": "markdown",
      "source": [
        "5.\tWrite a Python Program to Make a Simple Calculator with 4 basic mathematical operations?"
      ],
      "metadata": {
        "id": "aJXpVfsblyxc"
      }
    },
    {
      "cell_type": "code",
      "source": [
        "def add(x,y):\n",
        "  return x+y\n",
        "\n",
        "def sub(x,y):\n",
        "  return x-y\n",
        "\n",
        "def multiply(x,y):\n",
        "  return x*y\n",
        "\n",
        "def divide(x,y):\n",
        "  return x/y\n",
        "\n",
        "print(\"Select operation.\")\n",
        "print(\"1.Add\")\n",
        "print(\"2.Subtract\")\n",
        "print(\"3.Multiply\")\n",
        "print(\"4.Divide\")\n",
        "\n",
        "n1 = float(input(\"Enter 1st number \"))\n",
        "n2 = float(input(\"Enter 2nd number \"))\n",
        "\n",
        "while True:\n",
        "  choice = input(\"Enter your choice(1/2/3/4) \")\n",
        "\n",
        "  if choice in ('1','2','3','4'):\n",
        "    if choice == '1':\n",
        "      print(n1,' + ' ,n2,' = ',add(n1,n2))\n",
        "    \n",
        "    elif choice == '2':\n",
        "      print(n1,' - ' ,n2,' = ',sub(n1,n2))\n",
        "\n",
        "    elif choice == '3':\n",
        "      print(n1,' * ' ,n2,' = ',multiply(n1,n2))\n",
        "\n",
        "    elif choice == '4':\n",
        "      print(n1,' / ' ,n2,' = ',divide(n1,n2))\n",
        "\n",
        "    next_calculation = input(\"Do you want to calculate more (yes/no): \")\n",
        "    if next_calculation == \"no\":\n",
        "        break\n",
        "    \n"
      ],
      "metadata": {
        "colab": {
          "base_uri": "https://localhost:8080/"
        },
        "id": "KMVrA9598y-M",
        "outputId": "06362414-a654-4551-c7a0-23757f5c6d2c"
      },
      "execution_count": 10,
      "outputs": [
        {
          "name": "stdout",
          "output_type": "stream",
          "text": [
            "Select operation.\n",
            "1.Add\n",
            "2.Subtract\n",
            "3.Multiply\n",
            "4.Divide\n",
            "Enter 1st number 52\n",
            "Enter 2nd number 56\n",
            "Enter your choice(1/2/3/4) 3\n",
            "52.0  *  56.0  =  2912.0\n",
            "Do you want to calculate more (yes/no): yes\n",
            "Enter your choice(1/2/3/4) 3\n",
            "52.0  *  56.0  =  2912.0\n",
            "Do you want to calculate more (yes/no): no\n"
          ]
        }
      ]
    }
  ]
}