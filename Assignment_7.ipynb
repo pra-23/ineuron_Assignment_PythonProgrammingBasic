{
  "nbformat": 4,
  "nbformat_minor": 0,
  "metadata": {
    "colab": {
      "name": "Assignment_7.ipynb",
      "provenance": [],
      "authorship_tag": "ABX9TyNRlRSzywDCMmh+g9OJPJJ8"
    },
    "kernelspec": {
      "name": "python3",
      "display_name": "Python 3"
    },
    "language_info": {
      "name": "python"
    }
  },
  "cells": [
    {
      "cell_type": "markdown",
      "source": [
        "1.\tWrite a Python Program to find sum of array?\n"
      ],
      "metadata": {
        "id": "Ggt3X6XTg_T4"
      }
    },
    {
      "cell_type": "code",
      "execution_count": 2,
      "metadata": {
        "colab": {
          "base_uri": "https://localhost:8080/"
        },
        "id": "0MjD9ECkgrci",
        "outputId": "58d3cf9d-a99d-4707-bf31-9a4fb7f9fb14"
      },
      "outputs": [
        {
          "output_type": "stream",
          "name": "stdout",
          "text": [
            "Sum of array:  15\n"
          ]
        }
      ],
      "source": [
        "arr = [1,2,3,4,5]\n",
        "sum = 0\n",
        "for i in range(len(arr)):\n",
        "  sum += arr[i]\n",
        "\n",
        "print(\"Sum of array: \",sum)\n",
        "\n"
      ]
    },
    {
      "cell_type": "markdown",
      "source": [
        "2.\tWrite a Python Program to find largest element in an array?\n"
      ],
      "metadata": {
        "id": "nt1WLBV2g_-b"
      }
    },
    {
      "cell_type": "code",
      "source": [
        "arr = [40,20,32,44,5]\n",
        "max = arr[0]\n",
        "for i in range(len(arr)):\n",
        "  if arr[i] > max:\n",
        "    max = arr[i]\n",
        "print(\"Largest element in an array: \",max)\n"
      ],
      "metadata": {
        "colab": {
          "base_uri": "https://localhost:8080/"
        },
        "id": "UFlJ3zrxiq4K",
        "outputId": "29276061-35d7-40c2-b88b-e4b63348324d"
      },
      "execution_count": 5,
      "outputs": [
        {
          "output_type": "stream",
          "name": "stdout",
          "text": [
            "Largest element in an array:  44\n"
          ]
        }
      ]
    },
    {
      "cell_type": "code",
      "source": [
        "def largest(arr,n):\n",
        "  max = arr[0]\n",
        "  for i in range(n):\n",
        "    if arr[i] > max:\n",
        "      max = arr[i]\n",
        "  return max\n",
        "\n",
        "arr = [50,40,80,94,75,65,85,99,100,37,45,6,98]\n",
        "n = len(arr)\n",
        "large = largest(arr,n)\n",
        "print(\"Largest element in an array: \", large)"
      ],
      "metadata": {
        "colab": {
          "base_uri": "https://localhost:8080/"
        },
        "id": "mPyysA3xkY54",
        "outputId": "77d16c10-e13d-41aa-a56b-c5fed828a866"
      },
      "execution_count": 6,
      "outputs": [
        {
          "output_type": "stream",
          "name": "stdout",
          "text": [
            "Largest element in an array:  100\n"
          ]
        }
      ]
    },
    {
      "cell_type": "markdown",
      "source": [
        "3.\tWrite a Python Program for array rotation?\n"
      ],
      "metadata": {
        "id": "2t1HaInuhAnb"
      }
    },
    {
      "cell_type": "code",
      "source": [
        "def rotateArray(a,d):\n",
        "    temp = []\n",
        "    n=len(a)\n",
        "    for i in range(d,n):\n",
        "        temp.append(a[i])\n",
        "    i = 0\n",
        "    for i in range (0,d):\n",
        "        temp.append(a[i])\n",
        "    a=temp.copy()\n",
        "    return a\n",
        " \n",
        "arr = [1, 2, 3, 4, 5, 6, 7]\n",
        "rn = int(input(\"Enter how many values you want to rotate: \"))\n",
        "print(\"Array after left rotation is: \", end=' ')\n",
        "\n",
        "print(rotateArray(arr, rn))"
      ],
      "metadata": {
        "colab": {
          "base_uri": "https://localhost:8080/"
        },
        "id": "iZah781hlNWJ",
        "outputId": "53f82ac9-aa76-4d07-a53e-700676fca11a"
      },
      "execution_count": 7,
      "outputs": [
        {
          "output_type": "stream",
          "name": "stdout",
          "text": [
            "Enter how many values you want to rotate: 3\n",
            "Array after left rotation is:  [4, 5, 6, 7, 1, 2, 3]\n"
          ]
        }
      ]
    },
    {
      "cell_type": "markdown",
      "source": [
        "4.\tWrite a Python Program to Split the array and add the first part to the end?\n",
        "\n"
      ],
      "metadata": {
        "id": "PyROl9y7hJcL"
      }
    },
    {
      "cell_type": "code",
      "source": [
        "def SplitArray(arr,n,k):\n",
        "  for i in range(0,k):\n",
        "    x = arr[0]\n",
        "    for j in range(0, n-1):\n",
        "      arr[j] = arr[j+1]\n",
        "    \n",
        "    arr[n-1] = x\n",
        "arr = [15,40,15,16,50,36]\n",
        "n = len(arr)\n",
        "position = 2\n",
        "SplitArray(arr, n, position)\n",
        "for i in range(0, n):\n",
        "  print(arr[i], end = ' ')"
      ],
      "metadata": {
        "colab": {
          "base_uri": "https://localhost:8080/"
        },
        "id": "uUGMhNONq0Ie",
        "outputId": "81c1d3e6-a463-4126-85f3-e1e5a82582b8"
      },
      "execution_count": 8,
      "outputs": [
        {
          "output_type": "stream",
          "name": "stdout",
          "text": [
            "15 16 50 36 15 40 "
          ]
        }
      ]
    },
    {
      "cell_type": "markdown",
      "source": [
        "5.\tWrite a Python Program to check if given array is Monotonic?"
      ],
      "metadata": {
        "id": "9rjS_ld4hLOH"
      }
    },
    {
      "cell_type": "code",
      "source": [
        "def ismonotone(a):\n",
        "    n=len(a) \n",
        "    if n==1:\n",
        "        return True\n",
        "    else:\n",
        "        if all(a[i]>=a[i+1] for i in range(0,n-1) or a[i]<=a[i+1] for i in range(0,n-1)):\n",
        "            return True\n",
        "        else:\n",
        "            return False\n",
        "\n",
        "A = [6, 5, 4, 2]\n",
        "print(ismonotone(A))\n",
        "b = [6, 2, 4, 2]\n",
        "print(ismonotone(b))\n",
        "c=[4,3,2]\n",
        "print(ismonotone(c))\n",
        "d=[1]\n",
        "print(ismonotone(d))"
      ],
      "metadata": {
        "colab": {
          "base_uri": "https://localhost:8080/"
        },
        "id": "ieoUcdDe36u9",
        "outputId": "273158b8-a194-4fd2-ef9b-89388fee5980"
      },
      "execution_count": 9,
      "outputs": [
        {
          "output_type": "stream",
          "name": "stdout",
          "text": [
            "True\n",
            "False\n",
            "True\n",
            "True\n"
          ]
        }
      ]
    }
  ]
}