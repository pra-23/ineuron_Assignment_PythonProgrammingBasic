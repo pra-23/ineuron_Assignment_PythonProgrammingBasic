{
  "nbformat": 4,
  "nbformat_minor": 0,
  "metadata": {
    "colab": {
      "name": "Untitled2.ipynb",
      "provenance": [],
      "authorship_tag": "ABX9TyMWQQjB7XiIxLfe8up1d7y0"
    },
    "kernelspec": {
      "name": "python3",
      "display_name": "Python 3"
    },
    "language_info": {
      "name": "python"
    }
  },
  "cells": [
    {
      "cell_type": "markdown",
      "source": [
        "1.\tWrite a Python Program to Find the Factorial of a Number?\n"
      ],
      "metadata": {
        "id": "X2N3ID7mpAqv"
      }
    },
    {
      "cell_type": "code",
      "execution_count": null,
      "metadata": {
        "colab": {
          "base_uri": "https://localhost:8080/"
        },
        "id": "S1q68oKgo8B0",
        "outputId": "c8ea1f0f-09d1-424a-fa33-fbbc0005c513"
      },
      "outputs": [
        {
          "output_type": "stream",
          "name": "stdout",
          "text": [
            "Enter a number: 10\n",
            "The factorial of 10 is 3628800\n"
          ]
        }
      ],
      "source": [
        "num = int(input(\"Enter a number: \"))    \n",
        "factorial = 1    \n",
        "if num < 0:    \n",
        "   print(\" Factorial does not exist for negative numbers\")    \n",
        "elif num == 0:    \n",
        "   print(\"The factorial of 0 is 1\")    \n",
        "else:    \n",
        "   for i in range(1,num + 1):    \n",
        "       factorial = factorial*i    \n",
        "   print(\"The factorial of\",num,\"is\",factorial)    "
      ]
    },
    {
      "cell_type": "markdown",
      "source": [
        "2.\tWrite a Python Program to Display the multiplication Table?\n"
      ],
      "metadata": {
        "id": "V5Gsv8skpBV4"
      }
    },
    {
      "cell_type": "code",
      "source": [
        "n = int(input(\"Enter a number: \"))\n",
        "print(\"Multiplication Table of: \", n)\n",
        "for count in range(1,11):\n",
        "  print(n,'x',count,'=',n*count)"
      ],
      "metadata": {
        "colab": {
          "base_uri": "https://localhost:8080/"
        },
        "id": "SdQ6rw8Ftou7",
        "outputId": "89fc8a45-a52f-4c0b-f968-f4c7320303e1"
      },
      "execution_count": null,
      "outputs": [
        {
          "output_type": "stream",
          "name": "stdout",
          "text": [
            "Enter a number: 5\n",
            "Multiplication Table of:  5\n",
            "5 x 1 = 5\n",
            "5 x 2 = 10\n",
            "5 x 3 = 15\n",
            "5 x 4 = 20\n",
            "5 x 5 = 25\n",
            "5 x 6 = 30\n",
            "5 x 7 = 35\n",
            "5 x 8 = 40\n",
            "5 x 9 = 45\n",
            "5 x 10 = 50\n"
          ]
        }
      ]
    },
    {
      "cell_type": "markdown",
      "source": [
        "3.\tWrite a Python Program to Print the Fibonacci sequence?\n"
      ],
      "metadata": {
        "id": "6gMHFS_IpB09"
      }
    },
    {
      "cell_type": "code",
      "source": [
        "n = int(input(\"How many terms you want to print \"))\n",
        "n1, n2 = 0, 1\n",
        "count = 0\n",
        "if n <= 0:\n",
        "  print(\"Please enter a positive term\")\n",
        "elif n == 1:\n",
        "  print(\"Fibonaci sequence of number upto \",n)\n",
        "  print(n1)\n",
        "else:\n",
        "  print(\" Fibonacci series of number is \")\n",
        "  while count < n:\n",
        "    print(n1)\n",
        "    nth = n1 + n2\n",
        "    n1 = n2\n",
        "    n2 = nth\n",
        "    count += 1\n"
      ],
      "metadata": {
        "id": "sDElTHbBu6ou",
        "colab": {
          "base_uri": "https://localhost:8080/"
        },
        "outputId": "fdbbbfd7-1209-471c-ea86-4f9ceaca8e96"
      },
      "execution_count": null,
      "outputs": [
        {
          "output_type": "stream",
          "name": "stdout",
          "text": [
            "How many terms you want to print 5\n",
            " Fibonacci series of number is \n",
            "0\n",
            "1\n",
            "1\n",
            "2\n",
            "3\n"
          ]
        }
      ]
    },
    {
      "cell_type": "markdown",
      "source": [
        "4.\tWrite a Python Program to Check Armstrong Number?\n"
      ],
      "metadata": {
        "id": "cQ-0CV5GpCTi"
      }
    },
    {
      "cell_type": "code",
      "source": [
        "n = int(input(\"Enter a number \"))\n",
        "sum = 0\n",
        "temp = n\n",
        "\n",
        "while temp>0:\n",
        "  digit = temp % 10\n",
        "  sum += digit ** 3\n",
        "  temp //= 10\n",
        "\n",
        "if n == sum:\n",
        "  print(n,\" is an armstrong number\")\n",
        "else:\n",
        "  print(n,\" is not an armstrong number\")\n",
        "\n",
        "  "
      ],
      "metadata": {
        "id": "WUPlPWh2eDWr",
        "colab": {
          "base_uri": "https://localhost:8080/"
        },
        "outputId": "63e3c73d-2dc9-4b7b-d28c-d7debd16bcda"
      },
      "execution_count": 8,
      "outputs": [
        {
          "output_type": "stream",
          "name": "stdout",
          "text": [
            "Enter a number 153\n",
            "153  is an armstrong number\n"
          ]
        }
      ]
    },
    {
      "cell_type": "markdown",
      "source": [
        "5.\tWrite a Python Program to Find Armstrong Number in an Interval?\n"
      ],
      "metadata": {
        "id": "VhujQJJapDIP"
      }
    },
    {
      "cell_type": "code",
      "source": [
        "lower = 100\n",
        "upper = 2000\n",
        "\n",
        "for num in range(lower, upper + 1):\n",
        "  order = len(str(num))\n",
        "  \n",
        "  sum = 0\n",
        "\n",
        "  temp = num\n",
        "  while temp > 0:\n",
        "      digit = temp % 10\n",
        "      sum += digit ** order\n",
        "      temp //= 10\n",
        "\n",
        "  if num == sum:\n",
        "      print(num)"
      ],
      "metadata": {
        "colab": {
          "base_uri": "https://localhost:8080/"
        },
        "id": "GKQLuarzjAgU",
        "outputId": "494a1141-5a37-45be-8f96-5238d2363adb"
      },
      "execution_count": 9,
      "outputs": [
        {
          "output_type": "stream",
          "name": "stdout",
          "text": [
            "153\n",
            "370\n",
            "371\n",
            "407\n",
            "1634\n"
          ]
        }
      ]
    },
    {
      "cell_type": "markdown",
      "source": [
        "6.\tWrite a Python Program to Find the Sum of Natural Numbers?\n"
      ],
      "metadata": {
        "id": "sz9OuW5OpZlP"
      }
    },
    {
      "cell_type": "code",
      "source": [
        "num = int(input(\"Enter a number: \"))  \n",
        "  \n",
        "if num < 0:  \n",
        "   print(\"Enter a positive number\")  \n",
        "else:  \n",
        "   sum = 0  \n",
        "   # use while loop to iterate un till zero  \n",
        "   while(num > 0):  \n",
        "       sum += num  \n",
        "       num -= 1  \n",
        "   print(\"The sum is\",sum)  "
      ],
      "metadata": {
        "colab": {
          "base_uri": "https://localhost:8080/"
        },
        "id": "8UixAxaujqnH",
        "outputId": "41b0c293-439d-4469-b449-6bd9ec2a8999"
      },
      "execution_count": 10,
      "outputs": [
        {
          "output_type": "stream",
          "name": "stdout",
          "text": [
            "Enter a number: 56\n",
            "The sum is 1596\n"
          ]
        }
      ]
    }
  ]
}